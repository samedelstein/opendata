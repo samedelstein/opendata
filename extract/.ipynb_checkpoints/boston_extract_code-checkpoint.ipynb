{
 "cells": [
  {
   "cell_type": "code",
   "execution_count": 37,
   "metadata": {},
   "outputs": [],
   "source": [
    "from google.cloud import bigquery\n",
    "import os\n",
    "import gspread\n",
    "from oauth2client.service_account import ServiceAccountCredentials\n",
    "import pandas as pd\n",
    "import datetime\n",
    "from google.cloud import bigquery\n",
    "import pytz\n",
    "from google.oauth2 import service_account\n",
    "import numpy as np\n",
    "import requests\n",
    "from datetime import datetime as dt\n",
    "from datetime import date"
   ]
  },
  {
   "cell_type": "code",
   "execution_count": 38,
   "metadata": {},
   "outputs": [],
   "source": [
    "os.environ['GOOGLE_APPLICATION_CREDENTIALS'] = r'.\\creds\\opendatadbt-f2e674527eb6.json'\n",
    "client = bigquery.Client()\n",
    "\n",
    "credentials = ServiceAccountCredentials.from_json_keyfile_name(r'.\\creds\\opendatadbt-f2e674527eb6.json') # Your json file here\n",
    "\n"
   ]
  },
  {
   "cell_type": "markdown",
   "metadata": {},
   "source": [
    "#Initial Load boston_table_id = \"opendatadbt.311.boston311\"\n",
    "\n",
    "boston311 = requests.get(\"https://data.boston.gov/api/3/action/datastore_search_sql?sql=SELECT%20*%20from%20%22f53ebccd-bc61-49f9-83db-625f209c95f5%22%20WHERE%20%22open_dt%22%20%3E=%20%272021-03-22%27\" ) \n",
    "boston311json = boston311.json() \n",
    "boston_df = pd.json_normalize(boston311json['result']['records']) \n",
    "boston_df\n",
    "\n"
   ]
  },
  {
   "cell_type": "code",
   "execution_count": 40,
   "metadata": {},
   "outputs": [],
   "source": [
    "#Incremental load\n",
    "boston_table_id = \"opendatadbt.311.boston311\"\n",
    "current_datetime = dt.today().strftime(\"%Y-%m-%dT%H:%M:%S.000\")\n",
    "\n",
    "query_string = \"\"\"\n",
    "SELECT \n",
    "max(open_dt), max(closed_dt)\n",
    "FROM `opendatadbt.311.boston311`\n",
    "limit 10\n",
    "\"\"\"\n",
    "\n",
    "bostonmaxopendatedataframe = (\n",
    "    client.query(query_string)\n",
    "    .result()\n",
    "    .to_dataframe()\n",
    ")\n",
    "bostonmaxopendatedate = str(bostonmaxopendatedataframe['f0_'][0])\n",
    "\n",
    "bostonmaxclosedatedataframe = (\n",
    "    client.query(query_string)\n",
    "    .result()\n",
    "    .to_dataframe()\n",
    ")\n",
    "bostonmaxclosedate = str(bostonmaxclosedatedataframe['f1_'][0])\n"
   ]
  },
  {
   "cell_type": "code",
   "execution_count": 41,
   "metadata": {},
   "outputs": [
    {
     "data": {
      "text/html": [
       "<div>\n",
       "<style scoped>\n",
       "    .dataframe tbody tr th:only-of-type {\n",
       "        vertical-align: middle;\n",
       "    }\n",
       "\n",
       "    .dataframe tbody tr th {\n",
       "        vertical-align: top;\n",
       "    }\n",
       "\n",
       "    .dataframe thead th {\n",
       "        text-align: right;\n",
       "    }\n",
       "</style>\n",
       "<table border=\"1\" class=\"dataframe\">\n",
       "  <thead>\n",
       "    <tr style=\"text-align: right;\">\n",
       "      <th></th>\n",
       "      <th>case_enquiry_id</th>\n",
       "      <th>open_dt</th>\n",
       "      <th>closed_dt</th>\n",
       "      <th>department</th>\n",
       "      <th>subject</th>\n",
       "      <th>case_title</th>\n",
       "      <th>location_zipcode</th>\n",
       "      <th>location</th>\n",
       "      <th>neighborhood</th>\n",
       "      <th>case_status</th>\n",
       "      <th>latitude</th>\n",
       "      <th>longitude</th>\n",
       "    </tr>\n",
       "  </thead>\n",
       "  <tbody>\n",
       "    <tr>\n",
       "      <th>0</th>\n",
       "      <td>101003687884</td>\n",
       "      <td>2021-03-24 21:55:47</td>\n",
       "      <td>2021-03-24 22:12:25</td>\n",
       "      <td>BTDT</td>\n",
       "      <td>Transportation - Traffic Division</td>\n",
       "      <td>Parking Enforcement</td>\n",
       "      <td>02128</td>\n",
       "      <td>198 Bremen St  East Boston  MA  02128</td>\n",
       "      <td>East Boston</td>\n",
       "      <td>Closed</td>\n",
       "      <td>42.3734</td>\n",
       "      <td>-71.034</td>\n",
       "    </tr>\n",
       "  </tbody>\n",
       "</table>\n",
       "</div>"
      ],
      "text/plain": [
       "  case_enquiry_id              open_dt            closed_dt department  \\\n",
       "0    101003687884  2021-03-24 21:55:47  2021-03-24 22:12:25       BTDT   \n",
       "\n",
       "                             subject           case_title location_zipcode  \\\n",
       "0  Transportation - Traffic Division  Parking Enforcement            02128   \n",
       "\n",
       "                                location neighborhood case_status latitude  \\\n",
       "0  198 Bremen St  East Boston  MA  02128  East Boston      Closed  42.3734   \n",
       "\n",
       "  longitude  \n",
       "0   -71.034  "
      ]
     },
     "execution_count": 41,
     "metadata": {},
     "output_type": "execute_result"
    }
   ],
   "source": [
    "boston311 = requests.get(\"https://data.boston.gov/api/3/action/datastore_search_sql?sql=SELECT%20*%20from%20%22f53ebccd-bc61-49f9-83db-625f209c95f5%22%20WHERE%20%22open_dt%22>%20%27\" + bostonmaxopendatedate +\"%27 OR closed_dt between '\" +bostonmaxclosedate+ \"' AND '\" + current_datetime + \"'\") \n",
    "boston311json = boston311.json()\n",
    "cols = ['case_enquiry_id','open_dt','closed_dt','department','subject','case_title','location_zipcode','location','neighborhood','case_status','latitude','longitude']\n",
    "boston_df = pd.json_normalize(boston311json['result']['records'])\n",
    "boston_df = pd.DataFrame(boston_df, columns = cols)\n",
    "boston_df"
   ]
  },
  {
   "cell_type": "code",
   "execution_count": 42,
   "metadata": {},
   "outputs": [
    {
     "data": {
      "text/plain": [
       "<google.cloud.bigquery.job.load.LoadJob at 0x195c56d9b20>"
      ]
     },
     "execution_count": 42,
     "metadata": {},
     "output_type": "execute_result"
    }
   ],
   "source": [
    "\n",
    "boston_table_id = \"opendatadbt.311.boston311\"\n",
    "dataset_ref = client.dataset('311')\n",
    "table_ref = dataset_ref.table('boston311')\n",
    "job_config = bigquery.LoadJobConfig(\n",
    "    write_disposition=\"WRITE_TRUNCATE\",\n",
    ")\n",
    "\n",
    "client.load_table_from_dataframe(\n",
    "    boston_df, table_ref, job_config=job_config\n",
    ").result()  # Make an API request.\n"
   ]
  },
  {
   "cell_type": "code",
   "execution_count": null,
   "metadata": {},
   "outputs": [],
   "source": []
  }
 ],
 "metadata": {
  "kernelspec": {
   "display_name": "Python 3",
   "language": "python",
   "name": "python3"
  },
  "language_info": {
   "codemirror_mode": {
    "name": "ipython",
    "version": 3
   },
   "file_extension": ".py",
   "mimetype": "text/x-python",
   "name": "python",
   "nbconvert_exporter": "python",
   "pygments_lexer": "ipython3",
   "version": "3.9.0"
  }
 },
 "nbformat": 4,
 "nbformat_minor": 4
}
