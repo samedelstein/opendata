{
 "cells": [
  {
   "cell_type": "code",
   "execution_count": 25,
   "metadata": {},
   "outputs": [],
   "source": [
    "from google.cloud import bigquery\n",
    "import os\n",
    "import gspread\n",
    "from oauth2client.service_account import ServiceAccountCredentials\n",
    "import pandas as pd\n",
    "import datetime\n",
    "from google.cloud import bigquery\n",
    "import pytz\n",
    "from google.oauth2 import service_account\n",
    "import numpy as np\n",
    "import requests\n",
    "from datetime import datetime as dt\n",
    "from datetime import date\n"
   ]
  },
  {
   "cell_type": "code",
   "execution_count": 26,
   "metadata": {},
   "outputs": [],
   "source": [
    "os.environ['GOOGLE_APPLICATION_CREDENTIALS'] = r'.\\creds\\opendatadbt-f2e674527eb6.json'\n",
    "client = bigquery.Client()\n",
    "\n",
    "credentials = ServiceAccountCredentials.from_json_keyfile_name(r'.\\creds\\opendatadbt-f2e674527eb6.json') # Your json file here\n",
    "\n"
   ]
  },
  {
   "cell_type": "markdown",
   "metadata": {},
   "source": [
    "chattanooga_table_id = \"opendatadbt.311.chattanooga311\"\n",
    "\n",
    "#Inital Load\n",
    "chattanooga311 = requests.get(\"https://www.chattadata.org/resource/8qb9-5fja.json?$limit=10000&$where=created_date >= '2021-03-22'\")\n",
    "chattanooga311json = chattanooga311.json()\n",
    "chattanooga_df = pd.json_normalize(chattanooga311json)\n",
    "chattanooga_df_parsed = chattanooga_df['publiclocation.coordinates'].apply(pd.Series)\n",
    "chattanooga_df_cleaned = pd.concat([chattanooga_df.drop(['publiclocation.coordinates'], axis=1), chattanooga_df_parsed], axis=1)\n",
    "mapping = {chattanooga_df_cleaned.columns[-1]:'latitude', chattanooga_df_cleaned.columns[-2]:'longitude',chattanooga_df_cleaned.columns[-3]:'publiclocationtype'}\n",
    "chattanooga_df_cleaned = chattanooga_df_cleaned.rename(columns=mapping)\n",
    "chattanooga_df_cleaned = chattanooga_df_cleaned.drop(['publiclocation.type'], axis=1)\n",
    "cols = ['service_request_key','created_date','completed_at','department','request_type','status_code','latitude','longitude']\n",
    "chattanooga_df_cleaned = pd.DataFrame(chattanooga_df_cleaned,columns = cols)\n",
    "chattanooga_df_cleaned"
   ]
  },
  {
   "cell_type": "code",
   "execution_count": 27,
   "metadata": {},
   "outputs": [],
   "source": [
    "#Incremental load\n",
    "chattanooga_table_id = \"opendatadbt.311.chattanooga311\"\n",
    "current_datetime = dt.today().strftime(\"%Y-%m-%dT%H:%M:%S.000\")\n",
    "query_string = \"\"\"\n",
    "SELECT \n",
    "max(created_date), max(completed_at)\n",
    "FROM `opendatadbt.311.chattanooga311`\n",
    "limit 10\n",
    "\"\"\"\n",
    "\n",
    "chattanoogamaxopendatedataframe = (\n",
    "    client.query(query_string)\n",
    "    .result()\n",
    "    .to_dataframe()\n",
    ")\n",
    "chattanoogamaxopendatedate = str(chattanoogamaxopendatedataframe['f0_'][0])\n",
    "\n",
    "chattanoogamaxclosedatedataframe = (\n",
    "    client.query(query_string)\n",
    "    .result()\n",
    "    .to_dataframe()\n",
    ")\n",
    "chattanoogamaxclosedate = str(chattanoogamaxclosedatedataframe['f1_'][0])\n",
    "\n"
   ]
  },
  {
   "cell_type": "code",
   "execution_count": 30,
   "metadata": {
    "scrolled": true
   },
   "outputs": [
    {
     "data": {
      "text/html": [
       "<div>\n",
       "<style scoped>\n",
       "    .dataframe tbody tr th:only-of-type {\n",
       "        vertical-align: middle;\n",
       "    }\n",
       "\n",
       "    .dataframe tbody tr th {\n",
       "        vertical-align: top;\n",
       "    }\n",
       "\n",
       "    .dataframe thead th {\n",
       "        text-align: right;\n",
       "    }\n",
       "</style>\n",
       "<table border=\"1\" class=\"dataframe\">\n",
       "  <thead>\n",
       "    <tr style=\"text-align: right;\">\n",
       "      <th></th>\n",
       "      <th>service_request_key</th>\n",
       "      <th>created_date</th>\n",
       "      <th>due_at</th>\n",
       "      <th>completed_at</th>\n",
       "      <th>on_time_indicator</th>\n",
       "      <th>department</th>\n",
       "      <th>request_type</th>\n",
       "      <th>description</th>\n",
       "      <th>request_type_code</th>\n",
       "      <th>status_code</th>\n",
       "      <th>intake_form</th>\n",
       "      <th>actual_days_to_complete_working</th>\n",
       "      <th>sla_fy_2019</th>\n",
       "      <th>ispublic</th>\n",
       "      <th>citydst</th>\n",
       "    </tr>\n",
       "  </thead>\n",
       "  <tbody>\n",
       "    <tr>\n",
       "      <th>0</th>\n",
       "      <td>9728102</td>\n",
       "      <td>2021-03-17T19:13:00.000</td>\n",
       "      <td>2021-03-24T19:13:00.000</td>\n",
       "      <td>2021-03-24T23:14:36.000</td>\n",
       "      <td>No</td>\n",
       "      <td>PW - Solid Waste</td>\n",
       "      <td>Recycle Container Removal</td>\n",
       "      <td>Container is being filled with regular trash a...</td>\n",
       "      <td>NONE</td>\n",
       "      <td>O-CLOSED</td>\n",
       "      <td>iOS</td>\n",
       "      <td>6</td>\n",
       "      <td>5</td>\n",
       "      <td>no</td>\n",
       "      <td>8</td>\n",
       "    </tr>\n",
       "  </tbody>\n",
       "</table>\n",
       "</div>"
      ],
      "text/plain": [
       "  service_request_key             created_date                   due_at  \\\n",
       "0             9728102  2021-03-17T19:13:00.000  2021-03-24T19:13:00.000   \n",
       "\n",
       "              completed_at on_time_indicator        department  \\\n",
       "0  2021-03-24T23:14:36.000                No  PW - Solid Waste   \n",
       "\n",
       "                request_type  \\\n",
       "0  Recycle Container Removal   \n",
       "\n",
       "                                         description request_type_code  \\\n",
       "0  Container is being filled with regular trash a...              NONE   \n",
       "\n",
       "  status_code intake_form actual_days_to_complete_working sla_fy_2019  \\\n",
       "0    O-CLOSED         iOS                               6           5   \n",
       "\n",
       "  ispublic citydst  \n",
       "0       no       8  "
      ]
     },
     "execution_count": 30,
     "metadata": {},
     "output_type": "execute_result"
    }
   ],
   "source": [
    "#Incremental Load\n",
    "\n",
    "chattanooga311 = requests.get(\"https://www.chattadata.org/resource/8qb9-5fja.json?$limit=50000&$where=created_date>'\"+chattanoogamaxopendatedate+\"' OR completed_at between '\" +chattanoogamaxclosedate+ \"' AND '\" + current_datetime + \"'\")\n",
    "chattanooga311json = chattanooga311.json()\n",
    "chattanooga_df = pd.json_normalize(chattanooga311json)\n",
    "chattanooga_df_parsed = chattanooga_df['publiclocation.coordinates'].apply(pd.Series)\n",
    "chattanooga_df_cleaned = pd.concat([chattanooga_df.drop(['publiclocation.coordinates'], axis=1), chattanooga_df_parsed], axis=1)\n",
    "mapping = {chattanooga_df_cleaned.columns[-1]:'latitude', chattanooga_df_cleaned.columns[-2]:'longitude',chattanooga_df_cleaned.columns[-3]:'publiclocationtype'}\n",
    "chattanooga_df_cleaned = chattanooga_df_cleaned.rename(columns=mapping)\n",
    "chattanooga_df_cleaned = chattanooga_df_cleaned.drop(['publiclocation.type'], axis=1)\n",
    "cols = ['service_request_key','created_date','completed_at','department','request_type','status_code','latitude','longitude']\n",
    "chattanooga_df_cleaned = pd.DataFrame(chattanooga_df_cleaned,columns = cols)\n",
    "chattanooga_df_cleaned"
   ]
  },
  {
   "cell_type": "code",
   "execution_count": null,
   "metadata": {},
   "outputs": [],
   "source": []
  },
  {
   "cell_type": "code",
   "execution_count": null,
   "metadata": {},
   "outputs": [],
   "source": [
    "chattanooga_table_id = \"opendatadbt.311.chattanooga311\"\n",
    "dataset_ref = client.dataset('311')\n",
    "table_ref = dataset_ref.table('chattanooga311')\n",
    "job_config = bigquery.LoadJobConfig(\n",
    "    write_disposition=\"WRITE_TRUNCATE\",\n",
    ")\n",
    "\n",
    "client.load_table_from_dataframe(\n",
    "    chattanooga_df_cleaned, table_ref, job_config=job_config\n",
    ").result()  # Make an API request.\n"
   ]
  },
  {
   "cell_type": "code",
   "execution_count": null,
   "metadata": {},
   "outputs": [],
   "source": []
  }
 ],
 "metadata": {
  "kernelspec": {
   "display_name": "Python 3",
   "language": "python",
   "name": "python3"
  },
  "language_info": {
   "codemirror_mode": {
    "name": "ipython",
    "version": 3
   },
   "file_extension": ".py",
   "mimetype": "text/x-python",
   "name": "python",
   "nbconvert_exporter": "python",
   "pygments_lexer": "ipython3",
   "version": "3.9.0"
  }
 },
 "nbformat": 4,
 "nbformat_minor": 4
}
