{
 "cells": [
  {
   "cell_type": "code",
   "execution_count": 1,
   "metadata": {},
   "outputs": [],
   "source": [
    "from google.cloud import bigquery\n",
    "import os\n",
    "import gspread\n",
    "from oauth2client.service_account import ServiceAccountCredentials\n",
    "import pandas as pd\n",
    "import datetime\n",
    "from google.cloud import bigquery\n",
    "import pytz\n",
    "from google.oauth2 import service_account\n",
    "import numpy as np\n",
    "import requests\n",
    "from datetime import datetime as dt\n",
    "from datetime import date\n"
   ]
  },
  {
   "cell_type": "code",
   "execution_count": 2,
   "metadata": {},
   "outputs": [
    {
     "data": {
      "text/plain": [
       "['.ipynb_checkpoints',\n",
       " 'austin_extact_code.ipynb',\n",
       " 'boston_extract_code.ipynb',\n",
       " 'chattanooga_extract_code.ipynb',\n",
       " 'chicago_extract_code.ipynb',\n",
       " 'creds',\n",
       " 'kc_extract_code.ipynb',\n",
       " 'littlerock_extract_code.ipynb',\n",
       " 'nyc_extract_code.ipynb',\n",
       " 'SF_extract_code.ipynb']"
      ]
     },
     "execution_count": 2,
     "metadata": {},
     "output_type": "execute_result"
    }
   ],
   "source": [
    "os.listdir()"
   ]
  },
  {
   "cell_type": "code",
   "execution_count": 3,
   "metadata": {},
   "outputs": [],
   "source": [
    "os.environ['GOOGLE_APPLICATION_CREDENTIALS'] = r'.\\creds\\opendatadbt-f2e674527eb6.json'\n",
    "client = bigquery.Client()\n",
    "\n",
    "credentials = ServiceAccountCredentials.from_json_keyfile_name(r'.\\creds\\opendatadbt-f2e674527eb6.json') # Your json file here\n",
    "\n"
   ]
  },
  {
   "cell_type": "markdown",
   "metadata": {},
   "source": [
    "gc = gspread.authorize(credentials)"
   ]
  },
  {
   "cell_type": "markdown",
   "metadata": {},
   "source": [
    "wks = gc.open(\"NYTimes Mini Crossword times\").sheet1\n"
   ]
  },
  {
   "cell_type": "markdown",
   "metadata": {},
   "source": [
    "data = wks.get_all_values()\n",
    "headers = data.pop(0)\n",
    "\n",
    "df = pd.DataFrame(data, columns=headers)\n"
   ]
  },
  {
   "cell_type": "markdown",
   "metadata": {},
   "source": [
    "df = df.replace(np.NaN, -1)"
   ]
  },
  {
   "cell_type": "markdown",
   "metadata": {},
   "source": [
    "# saving a data frame to a buffer (same as with a regular file):\n",
    "df.to_csv('nytimescrossword.csv',index=False)"
   ]
  },
  {
   "cell_type": "markdown",
   "metadata": {},
   "source": [
    "# NYC"
   ]
  },
  {
   "cell_type": "markdown",
   "metadata": {},
   "source": [
    "#Initial Load\n",
    "nyc_table_id = \"opendatadbt.311.nyc311\"\n",
    "nyc311 = requests.get(\"https://data.cityofnewyork.us/resource/erm2-nwe9.json?$limit=10000&$where=created_date >= '2021-03-18T00:00:00.000' OR closed_date >= '2021-03-18T00:00:00.000'\" )\n",
    "nyc311json = nyc311.json()\n",
    "nyc_df = pd.DataFrame(nyc311json)\n",
    "#nyc_df = nyc_df[['created_date','closed_date','agency','agency_name','descriptor','incident_zip','incident_address','city','status','latitude','longitude']]"
   ]
  },
  {
   "cell_type": "code",
   "execution_count": 4,
   "metadata": {
    "scrolled": true
   },
   "outputs": [],
   "source": [
    "#Incremental load\n",
    "nyc_table_id = \"opendatadbt.311.nyc311\"\n",
    "current_datetime = dt.today().strftime(\"%Y-%m-%dT%H:%M:%S.000\")\n",
    "query_string = \"\"\"\n",
    "SELECT \n",
    "max(created_date), max(closed_date)\n",
    "FROM `opendatadbt.311.nyc311`\n",
    "limit 10\n",
    "\"\"\"\n",
    "\n",
    "nycmaxopendatedataframe = (\n",
    "    client.query(query_string)\n",
    "    .result()\n",
    "    .to_dataframe()\n",
    ")\n",
    "nycmaxopendatedate = str(nycmaxopendatedataframe['f0_'][0])\n",
    "\n",
    "nycmaxclosedatedataframe = (\n",
    "    client.query(query_string)\n",
    "    .result()\n",
    "    .to_dataframe()\n",
    ")\n",
    "nycmaxclosedate = str(nycmaxclosedatedataframe['f1_'][0])\n"
   ]
  },
  {
   "cell_type": "code",
   "execution_count": 5,
   "metadata": {},
   "outputs": [
    {
     "data": {
      "text/plain": [
       "'2021-03-26T00:59:21.000'"
      ]
     },
     "execution_count": 5,
     "metadata": {},
     "output_type": "execute_result"
    }
   ],
   "source": [
    "nycmaxopendatedate"
   ]
  },
  {
   "cell_type": "code",
   "execution_count": 6,
   "metadata": {},
   "outputs": [
    {
     "data": {
      "text/html": [
       "<div>\n",
       "<style scoped>\n",
       "    .dataframe tbody tr th:only-of-type {\n",
       "        vertical-align: middle;\n",
       "    }\n",
       "\n",
       "    .dataframe tbody tr th {\n",
       "        vertical-align: top;\n",
       "    }\n",
       "\n",
       "    .dataframe thead th {\n",
       "        text-align: right;\n",
       "    }\n",
       "</style>\n",
       "<table border=\"1\" class=\"dataframe\">\n",
       "  <thead>\n",
       "    <tr style=\"text-align: right;\">\n",
       "      <th></th>\n",
       "      <th>unique_key</th>\n",
       "      <th>created_date</th>\n",
       "      <th>closed_date</th>\n",
       "      <th>agency</th>\n",
       "      <th>agency_name</th>\n",
       "      <th>descriptor</th>\n",
       "      <th>incident_zip</th>\n",
       "      <th>incident_address</th>\n",
       "      <th>city</th>\n",
       "      <th>status</th>\n",
       "      <th>latitude</th>\n",
       "      <th>longitude</th>\n",
       "    </tr>\n",
       "  </thead>\n",
       "  <tbody>\n",
       "    <tr>\n",
       "      <th>0</th>\n",
       "      <td>49883223</td>\n",
       "      <td>2021-02-27T17:37:40.000</td>\n",
       "      <td>2021-03-26T12:31:04.000</td>\n",
       "      <td>HPD</td>\n",
       "      <td>Department of Housing Preservation and Develop...</td>\n",
       "      <td>PESTS</td>\n",
       "      <td>10029</td>\n",
       "      <td>237 EAST  115 STREET</td>\n",
       "      <td>NEW YORK</td>\n",
       "      <td>Closed</td>\n",
       "      <td>40.796620057618014</td>\n",
       "      <td>-73.93900222373162</td>\n",
       "    </tr>\n",
       "    <tr>\n",
       "      <th>1</th>\n",
       "      <td>49760116</td>\n",
       "      <td>2021-02-10T15:36:52.000</td>\n",
       "      <td>2021-03-26T20:30:52.000</td>\n",
       "      <td>HPD</td>\n",
       "      <td>Department of Housing Preservation and Develop...</td>\n",
       "      <td>BATHTUB/SHOWER</td>\n",
       "      <td>10024</td>\n",
       "      <td>103 WEST   80 STREET</td>\n",
       "      <td>NEW YORK</td>\n",
       "      <td>Closed</td>\n",
       "      <td>40.78276991011247</td>\n",
       "      <td>-73.97529037066195</td>\n",
       "    </tr>\n",
       "    <tr>\n",
       "      <th>2</th>\n",
       "      <td>49757012</td>\n",
       "      <td>2021-02-10T10:42:57.000</td>\n",
       "      <td>2021-03-26T15:51:57.000</td>\n",
       "      <td>HPD</td>\n",
       "      <td>Department of Housing Preservation and Develop...</td>\n",
       "      <td>BELL/BUZZER/INTERCOM</td>\n",
       "      <td>10472</td>\n",
       "      <td>1742 EAST  172 STREET</td>\n",
       "      <td>BRONX</td>\n",
       "      <td>Closed</td>\n",
       "      <td>40.83258373587881</td>\n",
       "      <td>-73.86920068822464</td>\n",
       "    </tr>\n",
       "    <tr>\n",
       "      <th>3</th>\n",
       "      <td>49757334</td>\n",
       "      <td>2021-02-10T10:42:57.000</td>\n",
       "      <td>2021-03-26T15:52:02.000</td>\n",
       "      <td>HPD</td>\n",
       "      <td>Department of Housing Preservation and Develop...</td>\n",
       "      <td>PESTS</td>\n",
       "      <td>10472</td>\n",
       "      <td>1742 EAST  172 STREET</td>\n",
       "      <td>BRONX</td>\n",
       "      <td>Closed</td>\n",
       "      <td>40.83258373587881</td>\n",
       "      <td>-73.86920068822464</td>\n",
       "    </tr>\n",
       "    <tr>\n",
       "      <th>4</th>\n",
       "      <td>49950094</td>\n",
       "      <td>2021-03-06T11:58:14.000</td>\n",
       "      <td>2021-03-26T12:25:26.000</td>\n",
       "      <td>DOT</td>\n",
       "      <td>Department of Transportation</td>\n",
       "      <td>Blocked - Construction</td>\n",
       "      <td>10024</td>\n",
       "      <td>347 WEST   87 STREET</td>\n",
       "      <td>NEW YORK</td>\n",
       "      <td>Closed</td>\n",
       "      <td>40.79007155277428</td>\n",
       "      <td>-73.97855230415891</td>\n",
       "    </tr>\n",
       "    <tr>\n",
       "      <th>...</th>\n",
       "      <td>...</td>\n",
       "      <td>...</td>\n",
       "      <td>...</td>\n",
       "      <td>...</td>\n",
       "      <td>...</td>\n",
       "      <td>...</td>\n",
       "      <td>...</td>\n",
       "      <td>...</td>\n",
       "      <td>...</td>\n",
       "      <td>...</td>\n",
       "      <td>...</td>\n",
       "      <td>...</td>\n",
       "    </tr>\n",
       "    <tr>\n",
       "      <th>8558</th>\n",
       "      <td>47846732</td>\n",
       "      <td>2020-10-11T19:11:52.000</td>\n",
       "      <td>2021-03-26T13:57:25.000</td>\n",
       "      <td>DPR</td>\n",
       "      <td>Department of Parks and Recreation</td>\n",
       "      <td>For One Address</td>\n",
       "      <td>10019</td>\n",
       "      <td>360 WEST   51 STREET</td>\n",
       "      <td>NEW YORK</td>\n",
       "      <td>Closed</td>\n",
       "      <td>40.763800279458756</td>\n",
       "      <td>-73.98777324607715</td>\n",
       "    </tr>\n",
       "    <tr>\n",
       "      <th>8559</th>\n",
       "      <td>47847716</td>\n",
       "      <td>2020-10-11T18:50:42.000</td>\n",
       "      <td>2021-03-26T14:12:29.000</td>\n",
       "      <td>DPR</td>\n",
       "      <td>Department of Parks and Recreation</td>\n",
       "      <td>For One Address</td>\n",
       "      <td>10019</td>\n",
       "      <td>252 WEST   51 STREET</td>\n",
       "      <td>NEW YORK</td>\n",
       "      <td>Closed</td>\n",
       "      <td>40.762468700395154</td>\n",
       "      <td>-73.9846112754587</td>\n",
       "    </tr>\n",
       "    <tr>\n",
       "      <th>8560</th>\n",
       "      <td>46330584</td>\n",
       "      <td>2020-05-29T09:31:38.000</td>\n",
       "      <td>2021-03-26T15:36:49.000</td>\n",
       "      <td>DPR</td>\n",
       "      <td>Department of Parks and Recreation</td>\n",
       "      <td>Planted More Than 2 Years Ago</td>\n",
       "      <td>NaN</td>\n",
       "      <td>NaN</td>\n",
       "      <td>NaN</td>\n",
       "      <td>Closed</td>\n",
       "      <td>NaN</td>\n",
       "      <td>NaN</td>\n",
       "    </tr>\n",
       "    <tr>\n",
       "      <th>8561</th>\n",
       "      <td>45904654</td>\n",
       "      <td>2020-03-27T10:36:12.000</td>\n",
       "      <td>2021-03-26T19:59:40.000</td>\n",
       "      <td>HPD</td>\n",
       "      <td>Department of Housing Preservation and Develop...</td>\n",
       "      <td>REFRIGERATOR</td>\n",
       "      <td>11230</td>\n",
       "      <td>1305 EAST   18 STREET</td>\n",
       "      <td>BROOKLYN</td>\n",
       "      <td>Closed</td>\n",
       "      <td>40.619036650261194</td>\n",
       "      <td>-73.95730817509532</td>\n",
       "    </tr>\n",
       "    <tr>\n",
       "      <th>8562</th>\n",
       "      <td>46011254</td>\n",
       "      <td>2020-04-16T15:08:54.000</td>\n",
       "      <td>2021-03-26T12:37:01.000</td>\n",
       "      <td>HPD</td>\n",
       "      <td>Department of Housing Preservation and Develop...</td>\n",
       "      <td>COOKING GAS</td>\n",
       "      <td>11226</td>\n",
       "      <td>314 EAST   16 STREET</td>\n",
       "      <td>BROOKLYN</td>\n",
       "      <td>Closed</td>\n",
       "      <td>40.6429212904582</td>\n",
       "      <td>-73.9638149881806</td>\n",
       "    </tr>\n",
       "  </tbody>\n",
       "</table>\n",
       "<p>8563 rows × 12 columns</p>\n",
       "</div>"
      ],
      "text/plain": [
       "     unique_key             created_date              closed_date agency  \\\n",
       "0      49883223  2021-02-27T17:37:40.000  2021-03-26T12:31:04.000    HPD   \n",
       "1      49760116  2021-02-10T15:36:52.000  2021-03-26T20:30:52.000    HPD   \n",
       "2      49757012  2021-02-10T10:42:57.000  2021-03-26T15:51:57.000    HPD   \n",
       "3      49757334  2021-02-10T10:42:57.000  2021-03-26T15:52:02.000    HPD   \n",
       "4      49950094  2021-03-06T11:58:14.000  2021-03-26T12:25:26.000    DOT   \n",
       "...         ...                      ...                      ...    ...   \n",
       "8558   47846732  2020-10-11T19:11:52.000  2021-03-26T13:57:25.000    DPR   \n",
       "8559   47847716  2020-10-11T18:50:42.000  2021-03-26T14:12:29.000    DPR   \n",
       "8560   46330584  2020-05-29T09:31:38.000  2021-03-26T15:36:49.000    DPR   \n",
       "8561   45904654  2020-03-27T10:36:12.000  2021-03-26T19:59:40.000    HPD   \n",
       "8562   46011254  2020-04-16T15:08:54.000  2021-03-26T12:37:01.000    HPD   \n",
       "\n",
       "                                            agency_name  \\\n",
       "0     Department of Housing Preservation and Develop...   \n",
       "1     Department of Housing Preservation and Develop...   \n",
       "2     Department of Housing Preservation and Develop...   \n",
       "3     Department of Housing Preservation and Develop...   \n",
       "4                          Department of Transportation   \n",
       "...                                                 ...   \n",
       "8558                 Department of Parks and Recreation   \n",
       "8559                 Department of Parks and Recreation   \n",
       "8560                 Department of Parks and Recreation   \n",
       "8561  Department of Housing Preservation and Develop...   \n",
       "8562  Department of Housing Preservation and Develop...   \n",
       "\n",
       "                         descriptor incident_zip       incident_address  \\\n",
       "0                             PESTS        10029   237 EAST  115 STREET   \n",
       "1                    BATHTUB/SHOWER        10024   103 WEST   80 STREET   \n",
       "2              BELL/BUZZER/INTERCOM        10472  1742 EAST  172 STREET   \n",
       "3                             PESTS        10472  1742 EAST  172 STREET   \n",
       "4            Blocked - Construction        10024   347 WEST   87 STREET   \n",
       "...                             ...          ...                    ...   \n",
       "8558                For One Address        10019   360 WEST   51 STREET   \n",
       "8559                For One Address        10019   252 WEST   51 STREET   \n",
       "8560  Planted More Than 2 Years Ago          NaN                    NaN   \n",
       "8561                   REFRIGERATOR        11230  1305 EAST   18 STREET   \n",
       "8562                    COOKING GAS        11226   314 EAST   16 STREET   \n",
       "\n",
       "          city  status            latitude           longitude  \n",
       "0     NEW YORK  Closed  40.796620057618014  -73.93900222373162  \n",
       "1     NEW YORK  Closed   40.78276991011247  -73.97529037066195  \n",
       "2        BRONX  Closed   40.83258373587881  -73.86920068822464  \n",
       "3        BRONX  Closed   40.83258373587881  -73.86920068822464  \n",
       "4     NEW YORK  Closed   40.79007155277428  -73.97855230415891  \n",
       "...        ...     ...                 ...                 ...  \n",
       "8558  NEW YORK  Closed  40.763800279458756  -73.98777324607715  \n",
       "8559  NEW YORK  Closed  40.762468700395154   -73.9846112754587  \n",
       "8560       NaN  Closed                 NaN                 NaN  \n",
       "8561  BROOKLYN  Closed  40.619036650261194  -73.95730817509532  \n",
       "8562  BROOKLYN  Closed    40.6429212904582   -73.9638149881806  \n",
       "\n",
       "[8563 rows x 12 columns]"
      ]
     },
     "execution_count": 6,
     "metadata": {},
     "output_type": "execute_result"
    }
   ],
   "source": [
    "\n",
    "nyc311 = requests.get(\"https://data.cityofnewyork.us/resource/erm2-nwe9.json?$limit=50000&$where=created_date>'\"+nycmaxopendatedate+\"' OR closed_date between '\" +nycmaxclosedate+ \"' AND '\" + current_datetime + \"'\") \n",
    "nyc311json = nyc311.json()\n",
    "cols = ['unique_key','created_date','closed_date','agency','agency_name','descriptor','incident_zip','incident_address','city','status','latitude','longitude']\n",
    "nyc_df = pd.DataFrame(nyc311json, columns=cols)\n",
    "nyc_df"
   ]
  },
  {
   "cell_type": "code",
   "execution_count": 7,
   "metadata": {},
   "outputs": [
    {
     "data": {
      "text/plain": [
       "<google.cloud.bigquery.job.load.LoadJob at 0x1d6fffa4d60>"
      ]
     },
     "execution_count": 7,
     "metadata": {},
     "output_type": "execute_result"
    }
   ],
   "source": [
    "nyc_table_id = \"opendatadbt.311.nyc311\"\n",
    "dataset_ref = client.dataset('311')\n",
    "table_ref = dataset_ref.table('nyc311')\n",
    "job_config = bigquery.LoadJobConfig(\n",
    "    write_disposition=\"WRITE_TRUNCATE\",\n",
    ")\n",
    "\n",
    "client.load_table_from_dataframe(\n",
    "    nyc_df, table_ref, job_config=job_config\n",
    ").result()  # Make an API request.\n"
   ]
  },
  {
   "cell_type": "code",
   "execution_count": null,
   "metadata": {},
   "outputs": [],
   "source": []
  }
 ],
 "metadata": {
  "kernelspec": {
   "display_name": "Python 3",
   "language": "python",
   "name": "python3"
  },
  "language_info": {
   "codemirror_mode": {
    "name": "ipython",
    "version": 3
   },
   "file_extension": ".py",
   "mimetype": "text/x-python",
   "name": "python",
   "nbconvert_exporter": "python",
   "pygments_lexer": "ipython3",
   "version": "3.9.0"
  }
 },
 "nbformat": 4,
 "nbformat_minor": 4
}
