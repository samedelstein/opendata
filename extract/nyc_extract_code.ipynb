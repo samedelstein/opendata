{
 "cells": [
  {
   "cell_type": "code",
   "execution_count": 1,
   "metadata": {},
   "outputs": [],
   "source": [
    "from google.cloud import bigquery\n",
    "import os\n",
    "import gspread\n",
    "from oauth2client.service_account import ServiceAccountCredentials\n",
    "import pandas as pd\n",
    "import datetime\n",
    "from google.cloud import bigquery\n",
    "import pytz\n",
    "from google.oauth2 import service_account\n",
    "import numpy as np\n",
    "import requests\n",
    "from datetime import datetime as dt\n",
    "from datetime import date\n"
   ]
  },
  {
   "cell_type": "code",
   "execution_count": 58,
   "metadata": {},
   "outputs": [
    {
     "data": {
      "text/plain": [
       "['.ipynb_checkpoints',\n",
       " 'austin_extact_code.ipynb',\n",
       " 'boston_extract_code.ipynb',\n",
       " 'chattanooga_extract_code.ipynb',\n",
       " 'chicago_extract_code.ipynb',\n",
       " 'creds',\n",
       " 'kc_extract_code.ipynb',\n",
       " 'littlerock_extract_code.ipynb',\n",
       " 'nyc_extract_code.ipynb',\n",
       " 'SF_extract_code.ipynb']"
      ]
     },
     "execution_count": 58,
     "metadata": {},
     "output_type": "execute_result"
    }
   ],
   "source": [
    "os.listdir()"
   ]
  },
  {
   "cell_type": "code",
   "execution_count": 2,
   "metadata": {},
   "outputs": [],
   "source": [
    "os.environ['GOOGLE_APPLICATION_CREDENTIALS'] = r'.\\creds\\opendatadbt-f2e674527eb6.json'\n",
    "client = bigquery.Client()\n",
    "\n",
    "credentials = ServiceAccountCredentials.from_json_keyfile_name(r'.\\creds\\opendatadbt-f2e674527eb6.json') # Your json file here\n",
    "\n"
   ]
  },
  {
   "cell_type": "markdown",
   "metadata": {},
   "source": [
    "gc = gspread.authorize(credentials)"
   ]
  },
  {
   "cell_type": "markdown",
   "metadata": {},
   "source": [
    "wks = gc.open(\"NYTimes Mini Crossword times\").sheet1\n"
   ]
  },
  {
   "cell_type": "markdown",
   "metadata": {},
   "source": [
    "data = wks.get_all_values()\n",
    "headers = data.pop(0)\n",
    "\n",
    "df = pd.DataFrame(data, columns=headers)\n"
   ]
  },
  {
   "cell_type": "markdown",
   "metadata": {},
   "source": [
    "df = df.replace(np.NaN, -1)"
   ]
  },
  {
   "cell_type": "markdown",
   "metadata": {},
   "source": [
    "# saving a data frame to a buffer (same as with a regular file):\n",
    "df.to_csv('nytimescrossword.csv',index=False)"
   ]
  },
  {
   "cell_type": "markdown",
   "metadata": {},
   "source": [
    "# NYC"
   ]
  },
  {
   "cell_type": "markdown",
   "metadata": {},
   "source": [
    "#Initial Load\n",
    "nyc_table_id = \"opendatadbt.311.nyc311\"\n",
    "nyc311 = requests.get(\"https://data.cityofnewyork.us/resource/erm2-nwe9.json?$limit=10000&$where=created_date >= '2021-03-18T00:00:00.000' OR closed_date >= '2021-03-18T00:00:00.000'\" )\n",
    "nyc311json = nyc311.json()\n",
    "nyc_df = pd.DataFrame(nyc311json)\n",
    "#nyc_df = nyc_df[['created_date','closed_date','agency','agency_name','descriptor','incident_zip','incident_address','city','status','latitude','longitude']]"
   ]
  },
  {
   "cell_type": "code",
   "execution_count": 60,
   "metadata": {
    "scrolled": true
   },
   "outputs": [],
   "source": [
    "#Incremental load\n",
    "nyc_table_id = \"opendatadbt.311.nyc311\"\n",
    "current_datetime = dt.today().strftime(\"%Y-%m-%dT%H:%M:%S.000\")\n",
    "query_string = \"\"\"\n",
    "SELECT \n",
    "max(created_date), max(closed_date)\n",
    "FROM `opendatadbt.311.nyc311`\n",
    "limit 10\n",
    "\"\"\"\n",
    "\n",
    "nycmaxopendatedataframe = (\n",
    "    client.query(query_string)\n",
    "    .result()\n",
    "    .to_dataframe()\n",
    ")\n",
    "nycmaxopendatedate = str(nycmaxopendatedataframe['f0_'][0])\n",
    "\n",
    "nycmaxclosedatedataframe = (\n",
    "    client.query(query_string)\n",
    "    .result()\n",
    "    .to_dataframe()\n",
    ")\n",
    "nycmaxclosedate = str(nycmaxclosedatedataframe['f1_'][0])\n"
   ]
  },
  {
   "cell_type": "code",
   "execution_count": 61,
   "metadata": {},
   "outputs": [
    {
     "data": {
      "text/plain": [
       "'2021-04-02T12:00:00.000'"
      ]
     },
     "execution_count": 61,
     "metadata": {},
     "output_type": "execute_result"
    }
   ],
   "source": [
    "nycmaxopendatedate"
   ]
  },
  {
   "cell_type": "code",
   "execution_count": 62,
   "metadata": {},
   "outputs": [
    {
     "data": {
      "text/html": [
       "<div>\n",
       "<style scoped>\n",
       "    .dataframe tbody tr th:only-of-type {\n",
       "        vertical-align: middle;\n",
       "    }\n",
       "\n",
       "    .dataframe tbody tr th {\n",
       "        vertical-align: top;\n",
       "    }\n",
       "\n",
       "    .dataframe thead th {\n",
       "        text-align: right;\n",
       "    }\n",
       "</style>\n",
       "<table border=\"1\" class=\"dataframe\">\n",
       "  <thead>\n",
       "    <tr style=\"text-align: right;\">\n",
       "      <th></th>\n",
       "      <th>unique_key</th>\n",
       "      <th>created_date</th>\n",
       "      <th>closed_date</th>\n",
       "      <th>agency</th>\n",
       "      <th>agency_name</th>\n",
       "      <th>descriptor</th>\n",
       "      <th>incident_zip</th>\n",
       "      <th>incident_address</th>\n",
       "      <th>city</th>\n",
       "      <th>status</th>\n",
       "      <th>latitude</th>\n",
       "      <th>longitude</th>\n",
       "    </tr>\n",
       "  </thead>\n",
       "  <tbody>\n",
       "    <tr>\n",
       "      <th>0</th>\n",
       "      <td>46221397</td>\n",
       "      <td>2020-05-15T22:21:48.000</td>\n",
       "      <td>2021-04-03T13:18:24.000</td>\n",
       "      <td>HPD</td>\n",
       "      <td>Department of Housing Preservation and Develop...</td>\n",
       "      <td>SLOW LEAK</td>\n",
       "      <td>11237</td>\n",
       "      <td>284 COOPER STREET</td>\n",
       "      <td>BROOKLYN</td>\n",
       "      <td>Closed</td>\n",
       "      <td>40.69168317223365</td>\n",
       "      <td>-73.9034961506383</td>\n",
       "    </tr>\n",
       "    <tr>\n",
       "      <th>1</th>\n",
       "      <td>48245823</td>\n",
       "      <td>2020-11-24T00:15:55.000</td>\n",
       "      <td>2021-04-03T18:49:12.000</td>\n",
       "      <td>HPD</td>\n",
       "      <td>Department of Housing Preservation and Develop...</td>\n",
       "      <td>PESTS</td>\n",
       "      <td>10024</td>\n",
       "      <td>103 WEST   77 STREET</td>\n",
       "      <td>NEW YORK</td>\n",
       "      <td>Closed</td>\n",
       "      <td>40.780854415776346</td>\n",
       "      <td>-73.97688345812512</td>\n",
       "    </tr>\n",
       "    <tr>\n",
       "      <th>2</th>\n",
       "      <td>49514964</td>\n",
       "      <td>2021-01-11T08:31:59.000</td>\n",
       "      <td>2021-04-03T12:17:01.000</td>\n",
       "      <td>HPD</td>\n",
       "      <td>Department of Housing Preservation and Develop...</td>\n",
       "      <td>WINDOW FRAME</td>\n",
       "      <td>10462</td>\n",
       "      <td>2196 MATTHEWS AVENUE</td>\n",
       "      <td>BRONX</td>\n",
       "      <td>Closed</td>\n",
       "      <td>40.85636202841177</td>\n",
       "      <td>-73.86286032403363</td>\n",
       "    </tr>\n",
       "    <tr>\n",
       "      <th>3</th>\n",
       "      <td>49517644</td>\n",
       "      <td>2021-01-11T08:31:59.000</td>\n",
       "      <td>2021-04-03T12:17:01.000</td>\n",
       "      <td>HPD</td>\n",
       "      <td>Department of Housing Preservation and Develop...</td>\n",
       "      <td>DOOR</td>\n",
       "      <td>10462</td>\n",
       "      <td>2196 MATTHEWS AVENUE</td>\n",
       "      <td>BRONX</td>\n",
       "      <td>Closed</td>\n",
       "      <td>40.85636202841177</td>\n",
       "      <td>-73.86286032403363</td>\n",
       "    </tr>\n",
       "    <tr>\n",
       "      <th>4</th>\n",
       "      <td>49523278</td>\n",
       "      <td>2021-01-12T14:42:11.000</td>\n",
       "      <td>2021-04-03T18:33:10.000</td>\n",
       "      <td>HPD</td>\n",
       "      <td>Department of Housing Preservation and Develop...</td>\n",
       "      <td>DAMP SPOT</td>\n",
       "      <td>10033</td>\n",
       "      <td>540 FT WASHINGTON AVENUE</td>\n",
       "      <td>NEW YORK</td>\n",
       "      <td>Closed</td>\n",
       "      <td>40.85363516096966</td>\n",
       "      <td>-73.93734497240956</td>\n",
       "    </tr>\n",
       "    <tr>\n",
       "      <th>...</th>\n",
       "      <td>...</td>\n",
       "      <td>...</td>\n",
       "      <td>...</td>\n",
       "      <td>...</td>\n",
       "      <td>...</td>\n",
       "      <td>...</td>\n",
       "      <td>...</td>\n",
       "      <td>...</td>\n",
       "      <td>...</td>\n",
       "      <td>...</td>\n",
       "      <td>...</td>\n",
       "      <td>...</td>\n",
       "    </tr>\n",
       "    <tr>\n",
       "      <th>10011</th>\n",
       "      <td>50135345</td>\n",
       "      <td>2021-03-28T19:28:00.000</td>\n",
       "      <td>2021-04-03T20:10:00.000</td>\n",
       "      <td>DEP</td>\n",
       "      <td>Department of Environmental Protection</td>\n",
       "      <td>Dirty Water (WE)</td>\n",
       "      <td>11427</td>\n",
       "      <td>219-50 PECK AVENUE</td>\n",
       "      <td>Queens Village</td>\n",
       "      <td>Closed</td>\n",
       "      <td>40.732499814869314</td>\n",
       "      <td>-73.7498351762619</td>\n",
       "    </tr>\n",
       "    <tr>\n",
       "      <th>10012</th>\n",
       "      <td>50129939</td>\n",
       "      <td>2021-03-27T08:51:00.000</td>\n",
       "      <td>2021-04-03T14:00:00.000</td>\n",
       "      <td>DEP</td>\n",
       "      <td>Department of Environmental Protection</td>\n",
       "      <td>Noise: Construction Equipment (NC1)</td>\n",
       "      <td>11102</td>\n",
       "      <td>30-85 VERNON BOULEVARD</td>\n",
       "      <td>Astoria</td>\n",
       "      <td>Closed</td>\n",
       "      <td>40.76987856811654</td>\n",
       "      <td>-73.93483162139626</td>\n",
       "    </tr>\n",
       "    <tr>\n",
       "      <th>10013</th>\n",
       "      <td>50146560</td>\n",
       "      <td>2021-03-29T15:33:00.000</td>\n",
       "      <td>2021-04-03T21:38:00.000</td>\n",
       "      <td>DEP</td>\n",
       "      <td>Department of Environmental Protection</td>\n",
       "      <td>Dirty Water (WE)</td>\n",
       "      <td>11379</td>\n",
       "      <td>73-25 68 ROAD</td>\n",
       "      <td>Middle Village</td>\n",
       "      <td>Closed</td>\n",
       "      <td>40.70988729083344</td>\n",
       "      <td>-73.87829661405529</td>\n",
       "    </tr>\n",
       "    <tr>\n",
       "      <th>10014</th>\n",
       "      <td>48505573</td>\n",
       "      <td>2020-12-27T21:27:45.000</td>\n",
       "      <td>2021-04-03T18:42:31.000</td>\n",
       "      <td>HPD</td>\n",
       "      <td>Department of Housing Preservation and Develop...</td>\n",
       "      <td>BELL/BUZZER/INTERCOM</td>\n",
       "      <td>10034</td>\n",
       "      <td>9 POST AVENUE</td>\n",
       "      <td>NEW YORK</td>\n",
       "      <td>Closed</td>\n",
       "      <td>40.86280316784287</td>\n",
       "      <td>-73.92474792373622</td>\n",
       "    </tr>\n",
       "    <tr>\n",
       "      <th>10015</th>\n",
       "      <td>48361965</td>\n",
       "      <td>2020-12-08T20:42:14.000</td>\n",
       "      <td>2021-04-03T18:49:12.000</td>\n",
       "      <td>HPD</td>\n",
       "      <td>Department of Housing Preservation and Develop...</td>\n",
       "      <td>PESTS</td>\n",
       "      <td>10024</td>\n",
       "      <td>103 WEST   77 STREET</td>\n",
       "      <td>NEW YORK</td>\n",
       "      <td>Closed</td>\n",
       "      <td>40.780854415776346</td>\n",
       "      <td>-73.97688345812512</td>\n",
       "    </tr>\n",
       "  </tbody>\n",
       "</table>\n",
       "<p>10016 rows × 12 columns</p>\n",
       "</div>"
      ],
      "text/plain": [
       "      unique_key             created_date              closed_date agency  \\\n",
       "0       46221397  2020-05-15T22:21:48.000  2021-04-03T13:18:24.000    HPD   \n",
       "1       48245823  2020-11-24T00:15:55.000  2021-04-03T18:49:12.000    HPD   \n",
       "2       49514964  2021-01-11T08:31:59.000  2021-04-03T12:17:01.000    HPD   \n",
       "3       49517644  2021-01-11T08:31:59.000  2021-04-03T12:17:01.000    HPD   \n",
       "4       49523278  2021-01-12T14:42:11.000  2021-04-03T18:33:10.000    HPD   \n",
       "...          ...                      ...                      ...    ...   \n",
       "10011   50135345  2021-03-28T19:28:00.000  2021-04-03T20:10:00.000    DEP   \n",
       "10012   50129939  2021-03-27T08:51:00.000  2021-04-03T14:00:00.000    DEP   \n",
       "10013   50146560  2021-03-29T15:33:00.000  2021-04-03T21:38:00.000    DEP   \n",
       "10014   48505573  2020-12-27T21:27:45.000  2021-04-03T18:42:31.000    HPD   \n",
       "10015   48361965  2020-12-08T20:42:14.000  2021-04-03T18:49:12.000    HPD   \n",
       "\n",
       "                                             agency_name  \\\n",
       "0      Department of Housing Preservation and Develop...   \n",
       "1      Department of Housing Preservation and Develop...   \n",
       "2      Department of Housing Preservation and Develop...   \n",
       "3      Department of Housing Preservation and Develop...   \n",
       "4      Department of Housing Preservation and Develop...   \n",
       "...                                                  ...   \n",
       "10011             Department of Environmental Protection   \n",
       "10012             Department of Environmental Protection   \n",
       "10013             Department of Environmental Protection   \n",
       "10014  Department of Housing Preservation and Develop...   \n",
       "10015  Department of Housing Preservation and Develop...   \n",
       "\n",
       "                                descriptor incident_zip  \\\n",
       "0                                SLOW LEAK        11237   \n",
       "1                                    PESTS        10024   \n",
       "2                             WINDOW FRAME        10462   \n",
       "3                                     DOOR        10462   \n",
       "4                                DAMP SPOT        10033   \n",
       "...                                    ...          ...   \n",
       "10011                     Dirty Water (WE)        11427   \n",
       "10012  Noise: Construction Equipment (NC1)        11102   \n",
       "10013                     Dirty Water (WE)        11379   \n",
       "10014                 BELL/BUZZER/INTERCOM        10034   \n",
       "10015                                PESTS        10024   \n",
       "\n",
       "               incident_address            city  status            latitude  \\\n",
       "0             284 COOPER STREET        BROOKLYN  Closed   40.69168317223365   \n",
       "1          103 WEST   77 STREET        NEW YORK  Closed  40.780854415776346   \n",
       "2          2196 MATTHEWS AVENUE           BRONX  Closed   40.85636202841177   \n",
       "3          2196 MATTHEWS AVENUE           BRONX  Closed   40.85636202841177   \n",
       "4      540 FT WASHINGTON AVENUE        NEW YORK  Closed   40.85363516096966   \n",
       "...                         ...             ...     ...                 ...   \n",
       "10011        219-50 PECK AVENUE  Queens Village  Closed  40.732499814869314   \n",
       "10012    30-85 VERNON BOULEVARD         Astoria  Closed   40.76987856811654   \n",
       "10013             73-25 68 ROAD  Middle Village  Closed   40.70988729083344   \n",
       "10014             9 POST AVENUE        NEW YORK  Closed   40.86280316784287   \n",
       "10015      103 WEST   77 STREET        NEW YORK  Closed  40.780854415776346   \n",
       "\n",
       "                longitude  \n",
       "0       -73.9034961506383  \n",
       "1      -73.97688345812512  \n",
       "2      -73.86286032403363  \n",
       "3      -73.86286032403363  \n",
       "4      -73.93734497240956  \n",
       "...                   ...  \n",
       "10011   -73.7498351762619  \n",
       "10012  -73.93483162139626  \n",
       "10013  -73.87829661405529  \n",
       "10014  -73.92474792373622  \n",
       "10015  -73.97688345812512  \n",
       "\n",
       "[10016 rows x 12 columns]"
      ]
     },
     "execution_count": 62,
     "metadata": {},
     "output_type": "execute_result"
    }
   ],
   "source": [
    "\n",
    "nyc311 = requests.get(\"https://data.cityofnewyork.us/resource/erm2-nwe9.json?$limit=50000&$where=created_date>'\"+nycmaxopendatedate+\"' OR closed_date between '\" +nycmaxclosedate+ \"' AND '\" + current_datetime + \"'\") \n",
    "nyc311json = nyc311.json()\n",
    "cols = ['unique_key','created_date','closed_date','agency','agency_name','descriptor','incident_zip','incident_address','city','status','latitude','longitude']\n",
    "nyc_df = pd.DataFrame(nyc311json, columns=cols)\n",
    "nyc_df"
   ]
  },
  {
   "cell_type": "code",
   "execution_count": 63,
   "metadata": {},
   "outputs": [
    {
     "data": {
      "text/plain": [
       "<google.cloud.bigquery.job.load.LoadJob at 0x1eefe56b220>"
      ]
     },
     "execution_count": 63,
     "metadata": {},
     "output_type": "execute_result"
    }
   ],
   "source": [
    "nyc_table_id = \"opendatadbt.311.nyc311\"\n",
    "dataset_ref = client.dataset('311')\n",
    "table_ref = dataset_ref.table('nyc311')\n",
    "job_config = bigquery.LoadJobConfig(\n",
    "    write_disposition=\"WRITE_TRUNCATE\",\n",
    ")\n",
    "\n",
    "client.load_table_from_dataframe(\n",
    "    nyc_df, table_ref, job_config=job_config\n",
    ").result()  # Make an API request.\n"
   ]
  },
  {
   "cell_type": "code",
   "execution_count": 3,
   "metadata": {},
   "outputs": [
    {
     "data": {
      "text/plain": [
       "<google.cloud.bigquery.job.load.LoadJob at 0x28755890550>"
      ]
     },
     "execution_count": 3,
     "metadata": {},
     "output_type": "execute_result"
    }
   ],
   "source": [
    "nyc_table_id = \"opendatadbt.311.nyc311\"\n",
    "current_datetime = dt.today().strftime(\"%Y-%m-%dT%H:%M:%S.000\")\n",
    "query_string = \"\"\"\n",
    "SELECT \n",
    "count(*), current_date(), \"NYC\"\n",
    "FROM `opendatadbt.311.nyc311`\n",
    "\n",
    "\"\"\"\n",
    "\n",
    "nycdatacount = (\n",
    "    client.query(query_string)\n",
    "    .result()\n",
    "    .to_dataframe()\n",
    ")\n",
    "\n",
    "nycdatacount = nycdatacount.rename(columns={'f0_':'count','f1_':'date','f2_':'city'})\n",
    "\n",
    "nyc_table_id = \"opendatadbt.311.extractrowcount\"\n",
    "dataset_ref = client.dataset('311')\n",
    "table_ref = dataset_ref.table('extractrowcount')\n",
    "job_config = bigquery.LoadJobConfig(\n",
    "    write_disposition=\"WRITE_APPEND\",\n",
    ")\n",
    "\n",
    "client.load_table_from_dataframe(\n",
    "    nycdatacount, table_ref, job_config=job_config\n",
    ").result()  # Make an API request."
   ]
  },
  {
   "cell_type": "code",
   "execution_count": null,
   "metadata": {},
   "outputs": [],
   "source": []
  }
 ],
 "metadata": {
  "kernelspec": {
   "display_name": "Python 3",
   "language": "python",
   "name": "python3"
  },
  "language_info": {
   "codemirror_mode": {
    "name": "ipython",
    "version": 3
   },
   "file_extension": ".py",
   "mimetype": "text/x-python",
   "name": "python",
   "nbconvert_exporter": "python",
   "pygments_lexer": "ipython3",
   "version": "3.9.0"
  }
 },
 "nbformat": 4,
 "nbformat_minor": 4
}
